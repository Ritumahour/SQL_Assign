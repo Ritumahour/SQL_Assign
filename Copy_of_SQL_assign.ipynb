{
  "nbformat": 4,
  "nbformat_minor": 0,
  "metadata": {
    "colab": {
      "provenance": [],
      "authorship_tag": "ABX9TyPbU0MwKepOWzpYEtoj0EeR",
      "include_colab_link": true
    },
    "kernelspec": {
      "name": "python3",
      "display_name": "Python 3"
    },
    "language_info": {
      "name": "python"
    }
  },
  "cells": [
    {
      "cell_type": "markdown",
      "metadata": {
        "id": "view-in-github",
        "colab_type": "text"
      },
      "source": [
        "<a href=\"https://colab.research.google.com/github/Ritumahour/SQL_Assign/blob/main/Copy_of_SQL_assign.ipynb\" target=\"_parent\"><img src=\"https://colab.research.google.com/assets/colab-badge.svg\" alt=\"Open In Colab\"/></a>"
      ]
    },
    {
      "cell_type": "markdown",
      "source": [
        "1.Create a table called employees with the following structure?\n",
        "  .emp_id (integer, should not be NULL and should be a primary key)\n",
        "  .emp_name (text, should not be NULL)\n",
        "  .age (integer, should have a check constraint to ensure the age is at least\n",
        "  18)\n",
        "  .email (text, should be unique for each employee)\n",
        "  .salary (decimal, with a default value of 30,000).\n",
        "\n",
        "Write the SQL query to create the above table with all constraints."
      ],
      "metadata": {
        "id": "dsTExhHq5NPF"
      }
    },
    {
      "cell_type": "code",
      "source": [
        "create_table_query = \"\"\"\n",
        "CREATE TABLE employees (\n",
        "    emp_id INTEGER NOT NULL PRIMARY KEY,\n",
        "    emp_name TEXT NOT NULL,\n",
        "    age INTEGER CHECK (age >= 18),\n",
        "    email TEXT UNIQUE,\n",
        "    salary DECIMAL(10, 2) DEFAULT 30000\n",
        ");\n",
        "\"\"\"\n",
        "\n",
        "\n",
        "\n"
      ],
      "metadata": {
        "id": "xymntvAx5RRy"
      },
      "execution_count": null,
      "outputs": []
    },
    {
      "cell_type": "markdown",
      "source": [
        "2. Explain the purpose of constraints and how they help maintain data integrity in a database. Provide\n",
        "examples of common types of constraints."
      ],
      "metadata": {
        "id": "FRo7S19_-xKG"
      }
    },
    {
      "cell_type": "markdown",
      "source": [
        "Ans.  Common Types of Constraints\n",
        " 1).NOT NULL: Ensures that a column cannot have a NULL value.\n",
        "\n",
        "Example: emp_name TEXT NOT NULL ensures every employee has a name.\n",
        "\n",
        " 2).UNIQUE: Guarantees that all values in a column are distinct.\n",
        "\n",
        "Example: email TEXT UNIQUE ensures no two employees share the same email address.\n",
        "\n",
        " 3).PRIMARY KEY: Combines NOT NULL and UNIQUE to uniquely identify each row in a table.\n",
        "\n",
        "Example: emp_id INTEGER PRIMARY KEY uniquely identifies each employee.\n",
        "\n",
        " 4).FOREIGN KEY: Establishes a link between the data in two tables, enforcing referential integrity.\n",
        "Wikipedia\n",
        "\n",
        "Example: department_id INTEGER REFERENCES departments(dept_id) ensures that an employee's department exists in the departments table.\n",
        "\n",
        " 5).CHECK: Validates that data in a column meets a specific condition.\n",
        "\n",
        "Example: age INTEGER CHECK (age >= 18) ensures employees are at least 18 years old.\n",
        "\n",
        " 6).DEFAULT: Assigns a default value to a column when no value is specified.\n",
        "\n",
        "Example: salary DECIMAL(10, 2) DEFAULT 30000 sets the default salary to 30,000 if not provided.\n",
        "\n"
      ],
      "metadata": {
        "id": "-QFGspeH_PEg"
      }
    },
    {
      "cell_type": "markdown",
      "source": [
        "3.Why would you apply the NOT NULL constraint to a column? Can a primary key contain NULL values? Justify\n",
        "your answer.\n"
      ],
      "metadata": {
        "id": "QQaKpNc4_2NH"
      }
    },
    {
      "cell_type": "markdown",
      "source": [
        "Ans.  Why Use the NOT NULL Constraint?\n",
        " 1.Enforce Mandatory Data Entry: By preventing NULL values, you ensure that essential information is always provided. For example, an emp_name column with a NOT NULL constraint ensures that every employee record includes a name.\n",
        "\n",
        " 2.Maintain Data Integrity: NOT NULL constraints help maintain the accuracy and reliability of the data by disallowing missing or undefined values in important columns.\n",
        "\n",
        " 3.Optimize Query Performance: Some database systems can optimize queries better when they know certain columns cannot be NULL, potentially improving performance.\n",
        "\n",
        "No, a primary key cannot contain NULL values. The primary key uniquely identifies each record in a table, and allowing NULL values would violate this uniqueness requirement. In SQL, defining a primary key automatically implies that the column is both NOT NULL and UNIQUE.\n",
        "\n",
        "This principle is rooted in the concept of entity integrity, which mandates that every table must have a primary key, and that the columns comprising the primary key must be defined as NOT NULL. This ensures that each record can be uniquely identified and that no ambiguity exists due to missing values.\n",
        "Wikipedia\n",
        "\n",
        "In summary, applying the NOT NULL constraint is crucial for ensuring that essential data is always present, and primary keys inherently require non-NULL values to maintain the uniqueness and integrity of each record in a table."
      ],
      "metadata": {
        "id": "vNI-rnp3AVLq"
      }
    },
    {
      "cell_type": "markdown",
      "source": [
        "4. Explain the steps and SQL commands used to add or remove constraints on an existing table. Provide an\n",
        "example for both adding and removing a constraint."
      ],
      "metadata": {
        "id": "oI36-lHNAjOL"
      }
    },
    {
      "cell_type": "markdown",
      "source": [
        "ALTER TABLE table_name\n",
        "ADD CONSTRAINT constraint_name constraint_type (column_name);\n",
        "Common constraints you can add:\n",
        "PRIMARY KEY\n",
        "\n",
        "FOREIGN KEY\n",
        "\n",
        "UNIQUE\n",
        "\n",
        "CHECK\n",
        "\n",
        "NOT NULL (different syntax, usually with ALTER COLUMN)\n",
        "\n",
        "Example: Add a UNIQUE constraint on email column of the customer table\n",
        "sql\n",
        "Copy\n",
        "Edit\n",
        "ALTER TABLE customer\n",
        "ADD CONSTRAINT unique_email UNIQUE (email);\n",
        "Example: Add a FOREIGN KEY constraint\n",
        "Suppose you want to ensure customer_id in orders references customer_id in customer:\n",
        "\n",
        "sql\n",
        "Copy\n",
        "Edit\n",
        "ALTER TABLE orders\n",
        "ADD CONSTRAINT fk_customer\n",
        "FOREIGN KEY (customer_id) REFERENCES customer(customer_id);\n",
        "Removing (Dropping) Constraints from an Existing Table\n",
        "You also use ALTER TABLE with DROP CONSTRAINT to remove constraints.\n",
        "\n",
        "Syntax:\n",
        "sql\n",
        "Copy\n",
        "Edit\n",
        "ALTER TABLE table_name\n",
        "DROP CONSTRAINT constraint_name;\n",
        "Note: You need to know the name of the constraint you want to drop.\n",
        "\n",
        "Example: Remove the UNIQUE constraint named unique_email from the customer table\n",
        "sql\n",
        "Copy\n",
        "Edit\n",
        "ALTER TABLE customer\n",
        "DROP CONSTRAINT unique_email;\n",
        "Important Notes:\n",
        "Constraint names can be system-generated if you didn’t name them explicitly, so it’s good practice to name constraints when creating them.\n",
        "\n",
        "Some constraints, like NOT NULL, are removed differently (for example, dropping NOT NULL requires altering the column).\n",
        "\n",
        "Example: Drop NOT NULL constraint on email column (syntax varies by DBMS):\n",
        "sql\n",
        "Copy\n",
        "Edit\n",
        "ALTER TABLE customer\n",
        "ALTER COLUMN email DROP NOT NULL;\n"
      ],
      "metadata": {
        "id": "YutEQdD6tK2O"
      }
    },
    {
      "cell_type": "markdown",
      "source": [
        "5. Explain the consequences of attempting to insert, update, or delete data in a way that violates constraints.\n",
        "Provide an example of an error message that might occur when violating a constraint."
      ],
      "metadata": {
        "id": "VXoeEJewBZiQ"
      }
    },
    {
      "cell_type": "markdown",
      "source": [
        "Common types of constraints and consequences of violating them:\n",
        "Primary Key Constraint:\n",
        "\n",
        "Ensures each row has a unique identifier.\n",
        "\n",
        "Violation: Trying to insert a duplicate primary key value.\n",
        "\n",
        "Consequence: Insert/update is rejected; no duplicate keys allowed.\n",
        "\n",
        "Foreign Key Constraint:\n",
        "\n",
        "Ensures a value in one table matches a value in another table (referential integrity).\n",
        "\n",
        "Violation: Trying to insert or update a foreign key value that doesn’t exist in the referenced table, or trying to delete a parent row that has dependent child rows.\n",
        "\n",
        "Consequence: Operation rejected to prevent orphan records.\n",
        "\n",
        "Unique Constraint:\n",
        "\n",
        "Ensures values in a column (or group of columns) are unique.\n",
        "\n",
        "Violation: Inserting or updating a value that already exists in the unique column(s).\n",
        "\n",
        "Consequence: Operation rejected to maintain uniqueness.\n",
        "\n",
        "Not Null Constraint:\n",
        "\n",
        "Ensures a column cannot have NULL values.\n",
        "\n",
        "Violation: Trying to insert or update a NULL value in that column.\n",
        "\n",
        "Consequence: Operation rejected.\n",
        "\n",
        "Check Constraint:\n",
        "\n",
        "Ensures values in a column satisfy a specific condition.\n",
        "\n",
        "Violation: Inserting or updating a value that fails the condition.\n",
        "\n",
        "Consequence: Operation rejected.\n",
        "\n",
        "Example of an error message:\n",
        "Suppose you have a customer table where customer_id is the primary key. If you try to insert a duplicate customer_id, you might get an error like:\n",
        "\n",
        "plaintext\n",
        "Copy\n",
        "Edit\n",
        "ERROR: duplicate key value violates unique constraint \"customer_pkey\"\n",
        "DETAIL: Key (customer_id)=(1) already exists.\n"
      ],
      "metadata": {
        "id": "zHd6byqys3U1"
      }
    },
    {
      "cell_type": "markdown",
      "source": [
        "6. You created a products table without constraints as follows:\n",
        "\n",
        "CREATE TABLE products (\n",
        "\n",
        "    product_id INT,\n",
        "\n",
        "    product_name VARCHAR(50),\n",
        "\n",
        "    price DECI\n",
        "\n",
        "Now, you realise that?\n",
        ": The product_id should be a primary keyQ\n",
        ": The price should have a default value of 50.00"
      ],
      "metadata": {
        "id": "IQe7CtQWCYrS"
      }
    },
    {
      "cell_type": "markdown",
      "source": [
        "Ans. ALTER TABLE products\n",
        "ADD CONSTRAINT pk_product_id PRIMARY KEY (product_id);\n",
        "\n",
        "ALTER TABLE products\n",
        "ALTER COLUMN price SET DEFAULT 50.00;\n"
      ],
      "metadata": {
        "id": "P7zJsA8iDUV6"
      }
    },
    {
      "cell_type": "markdown",
      "source": [
        " SQL COMMANDS\n"
      ],
      "metadata": {
        "id": "FjJ_9fGjD-Qj"
      }
    },
    {
      "cell_type": "markdown",
      "source": [
        "1. Identify the primary keys and foreign keys in maven movies db. Discuss the differences"
      ],
      "metadata": {
        "id": "qLHyQL1dEFC0"
      }
    },
    {
      "cell_type": "markdown",
      "source": [
        "Ans. Primary key: -\n",
        "Primary keys do not allow two rows to have the same values.\n",
        "Insertion\tValues ​​can be inserted even if the foreign key does not have that value.\n",
        "Range\tEach relational database table row can have only one primary key.\n",
        "Clustered index\tPrimary keys, by default, have a clustered index.\n",
        "Suppression\tWhen a value is to be removed, the value must be made to not already be present in the foreign key reference table.\n",
        "Temporary Tables\tPrimary keys can be defined in a temporary table.\n",
        "\n",
        " Foreign key:-\n",
        "Foreign keys allow the two rows to have the same values.\n",
        "Values​ cannot be inserted if the values ​​are not present in the primary key.\n",
        "A relational database table can have numerous foreign keys.\n",
        "Foreign keys do not have a clustered index.\n",
        "When a value is removed, it can quickly be done from foreign keys.\n",
        "Foreign keys cannot be defined in a temporary table."
      ],
      "metadata": {
        "id": "dv_12Dd6EpDK"
      }
    },
    {
      "cell_type": "markdown",
      "source": [
        "2- List all details of actors"
      ],
      "metadata": {
        "id": "S2AP_DPVGAws"
      }
    },
    {
      "cell_type": "markdown",
      "source": [
        "SELECT * FROM actor;\n"
      ],
      "metadata": {
        "id": "WE-ZL2ltGqYN"
      }
    },
    {
      "cell_type": "markdown",
      "source": [
        "3 -List all customer information from DB."
      ],
      "metadata": {
        "id": "kHmrVHlcGsld"
      }
    },
    {
      "cell_type": "markdown",
      "source": [
        "SELECT * FROM customer;"
      ],
      "metadata": {
        "id": "VZKIwddQG4jo"
      }
    },
    {
      "cell_type": "markdown",
      "source": [
        "4 -List different countries."
      ],
      "metadata": {
        "id": "nVY7XlcBHBt4"
      }
    },
    {
      "cell_type": "markdown",
      "source": [
        "SELECT country_id, country\n",
        "FROM country\n",
        "ORDER BY country;\n"
      ],
      "metadata": {
        "id": "thEEmt5cHByk"
      }
    },
    {
      "cell_type": "markdown",
      "source": [
        "5 -Display all active customers.\n"
      ],
      "metadata": {
        "id": "N5kNJ0e5HB2y"
      }
    },
    {
      "cell_type": "markdown",
      "source": [
        "SELECT * FROM customer WHERE active = 1;\n"
      ],
      "metadata": {
        "id": "xKYslLw1HB6d"
      }
    },
    {
      "cell_type": "markdown",
      "source": [
        "6 -List of all rental IDs for customer with ID 1."
      ],
      "metadata": {
        "id": "ycQRfSYhHB-h"
      }
    },
    {
      "cell_type": "markdown",
      "source": [
        "SELECT rental_id\n",
        "FROM rental\n",
        "WHERE customer_id = 1;\n"
      ],
      "metadata": {
        "id": "ouknUW70HCCx"
      }
    },
    {
      "cell_type": "markdown",
      "source": [
        "7 - Display all the films whose rental duration is greater than 5"
      ],
      "metadata": {
        "id": "838muaheJ6Ts"
      }
    },
    {
      "cell_type": "markdown",
      "source": [
        "SELECT film_id, title, rental_duration\n",
        "FROM film\n",
        "WHERE rental_duration > 5;\n"
      ],
      "metadata": {
        "id": "59w4n3dPJ682"
      }
    },
    {
      "cell_type": "markdown",
      "source": [
        "8 - List the total number of films whose replacement cost is greater than $15 and less than $20.\n",
        "\n"
      ],
      "metadata": {
        "id": "tjh2t8UvJ7LD"
      }
    },
    {
      "cell_type": "markdown",
      "source": [
        "SELECT COUNT(*) AS total_films\n",
        "FROM film\n",
        "WHERE replacement_cost > 15 AND replacement_cost < 20;\n"
      ],
      "metadata": {
        "id": "Tcb3cGCzsgv4"
      }
    },
    {
      "cell_type": "markdown",
      "source": [
        "9 - Display the count of unique first names of actors."
      ],
      "metadata": {
        "id": "Ni9tkN3inuhX"
      }
    },
    {
      "cell_type": "markdown",
      "source": [
        "SELECT COUNT(DISTINCT first_name) AS unique_first_names\n",
        "FROM actor;\n"
      ],
      "metadata": {
        "id": "x7p2gX3ZpHd2"
      }
    },
    {
      "cell_type": "markdown",
      "source": [
        "10- Display the first 10 records from the customer table ."
      ],
      "metadata": {
        "id": "HE5W3ty0pNvU"
      }
    },
    {
      "cell_type": "markdown",
      "source": [
        "SELECT *\n",
        "FROM customer\n",
        "LIMIT 10;\n",
        "\n"
      ],
      "metadata": {
        "id": "4qNTwWPypN9L"
      }
    },
    {
      "cell_type": "markdown",
      "source": [
        "11 - Display the first 3 records from the customer table whose first name starts with ‘b’."
      ],
      "metadata": {
        "id": "bjXzUJPGpOJD"
      }
    },
    {
      "cell_type": "markdown",
      "source": [
        "SELECT *\n",
        "FROM customer\n",
        "WHERE first_name LIKE 'B%'\n",
        "LIMIT 3;\n",
        "\n"
      ],
      "metadata": {
        "id": "4nQ3uQYRpOUQ"
      }
    },
    {
      "cell_type": "markdown",
      "source": [
        "12 -Display the names of the first 5 movies which are rated as ‘G’.\n"
      ],
      "metadata": {
        "id": "Q55v3S4VpNEH"
      }
    },
    {
      "cell_type": "markdown",
      "source": [
        "SELECT title\n",
        "FROM film\n",
        "WHERE rating = 'G'\n",
        "LIMIT 5;\n"
      ],
      "metadata": {
        "id": "zQlvQOuApzbP"
      }
    },
    {
      "cell_type": "markdown",
      "source": [
        "13-Find all customers whose first name starts with \"a\"."
      ],
      "metadata": {
        "id": "0eMgo55rpzqj"
      }
    },
    {
      "cell_type": "markdown",
      "source": [
        "SELECT *\n",
        "FROM customer\n",
        "WHERE first_name LIKE 'A%';\n"
      ],
      "metadata": {
        "id": "Up2669DGpz4V"
      }
    },
    {
      "cell_type": "markdown",
      "source": [
        "14- Find all customers whose first name ends with \"a\"."
      ],
      "metadata": {
        "id": "FMrRrzc9p0EA"
      }
    },
    {
      "cell_type": "markdown",
      "source": [
        "SELECT *\n",
        "FROM customer\n",
        "WHERE first_name LIKE '%a';\n"
      ],
      "metadata": {
        "id": "br-LM_rop0Pz"
      }
    },
    {
      "cell_type": "markdown",
      "source": [
        "15- Display the list of first 4 cities which start and end with ‘a’"
      ],
      "metadata": {
        "id": "Sl23lGtip0aX"
      }
    },
    {
      "cell_type": "markdown",
      "source": [
        "SELECT city\n",
        "FROM city\n",
        "WHERE city LIKE 'A%a'\n",
        "LIMIT 4;\n"
      ],
      "metadata": {
        "id": "7llAoGN8qcEM"
      }
    },
    {
      "cell_type": "markdown",
      "source": [
        "16- Find all customers whose first name have \"NI\" in any position"
      ],
      "metadata": {
        "id": "L-jnR6WvqcUf"
      }
    },
    {
      "cell_type": "markdown",
      "source": [
        "SELECT *\n",
        "FROM customer\n",
        "WHERE first_name LIKE '%NI%';\n"
      ],
      "metadata": {
        "id": "XXAHCaJHqcpM"
      }
    },
    {
      "cell_type": "markdown",
      "source": [
        "17- Find all customers whose first name have \"r\" in the second position ."
      ],
      "metadata": {
        "id": "9C9kLgZ1qcuM"
      }
    },
    {
      "cell_type": "markdown",
      "source": [
        "SELECT *\n",
        "FROM customer\n",
        "WHERE first_name LIKE '_r%';\n"
      ],
      "metadata": {
        "id": "wqsZ0_iBqcx8"
      }
    },
    {
      "cell_type": "markdown",
      "source": [
        "18 - Find all customers whose first name starts with \"a\" and are at least 5 characters in length."
      ],
      "metadata": {
        "id": "sW4NZnpHrGvZ"
      }
    },
    {
      "cell_type": "markdown",
      "source": [
        "SELECT *\n",
        "FROM customer\n",
        "WHERE first_name LIKE 'a%' AND LENGTH(first_name) >= 5;\n"
      ],
      "metadata": {
        "id": "vcfvZMntrHIS"
      }
    },
    {
      "cell_type": "markdown",
      "source": [
        "19- Find all customers whose first name starts with \"a\" and ends with \"o\"."
      ],
      "metadata": {
        "id": "3LohkPHQrHNR"
      }
    },
    {
      "cell_type": "markdown",
      "source": [
        "SELECT *\n",
        "FROM customer\n",
        "WHERE first_name LIKE 'a%o';\n"
      ],
      "metadata": {
        "id": "-veXxW_VrHRB"
      }
    },
    {
      "cell_type": "markdown",
      "source": [
        "20 - Get the films with pg and pg-13 rating using IN operator.\n",
        "\n"
      ],
      "metadata": {
        "id": "nZ5sT52CrHke"
      }
    },
    {
      "cell_type": "markdown",
      "source": [
        "SELECT *\n",
        "FROM film\n",
        "WHERE rating IN ('PG', 'PG-13');\n"
      ],
      "metadata": {
        "id": "7gSfTsg0r2yY"
      }
    },
    {
      "cell_type": "markdown",
      "source": [
        "21 - Get the films with length between 50 to 100 using between operator."
      ],
      "metadata": {
        "id": "o_7Q8Mt0r-vo"
      }
    },
    {
      "cell_type": "markdown",
      "source": [
        "SELECT *\n",
        "FROM film\n",
        "WHERE length BETWEEN 50 AND 100;\n"
      ],
      "metadata": {
        "id": "83p6HgUlr_BF"
      }
    },
    {
      "cell_type": "markdown",
      "source": [
        "22 - Get the top 50 actors using limit operator"
      ],
      "metadata": {
        "id": "j0R-qPDtr_V0"
      }
    },
    {
      "cell_type": "markdown",
      "source": [
        "SELECT *\n",
        "FROM actor\n",
        "LIMIT 50;\n"
      ],
      "metadata": {
        "id": "WbfwxoZnr_k2"
      }
    },
    {
      "cell_type": "markdown",
      "source": [
        "23 - Get the distinct film ids from inventory table"
      ],
      "metadata": {
        "id": "IUE9Qu9hr_5k"
      }
    },
    {
      "cell_type": "markdown",
      "source": [
        "SELECT DISTINCT film_id\n",
        "FROM inventory;\n"
      ],
      "metadata": {
        "id": "J78POF5SsAJL"
      }
    },
    {
      "cell_type": "markdown",
      "source": [
        "Question 1:\n",
        "\n",
        "Retrieve the total number of rentals made in the Sakila database.\n",
        "\n",
        "Hint: Use the COUNT() function"
      ],
      "metadata": {
        "id": "seOVCY601qWF"
      }
    },
    {
      "cell_type": "markdown",
      "source": [
        "SELECT COUNT(*) AS total_rentals\n",
        "FROM rental;\n"
      ],
      "metadata": {
        "id": "8iNiQ_Qk1qne"
      }
    },
    {
      "cell_type": "markdown",
      "source": [
        "Question 2:\n",
        "\n",
        "Find the average rental duration (in days) of movies rented from the Sakila database.\n",
        "\n",
        "Hint: Utilize the AVG() function."
      ],
      "metadata": {
        "id": "taVqqTQR1qsq"
      }
    },
    {
      "cell_type": "markdown",
      "source": [
        "SELECT AVG(rental_duration) AS average_rental_duration\n",
        "FROM film;\n"
      ],
      "metadata": {
        "id": "Goz73Xzw1qzf"
      }
    },
    {
      "cell_type": "markdown",
      "source": [
        "Question 3:\n",
        "\n",
        "Display the first name and last name of customers in uppercase.\n",
        "\n",
        "Hint: Use the UPPER () function."
      ],
      "metadata": {
        "id": "BO6TrrQC1q-B"
      }
    },
    {
      "cell_type": "markdown",
      "source": [
        "SELECT UPPER(first_name) AS first_name_upper,\n",
        "       UPPER(last_name) AS last_name_upper\n",
        "FROM customer;\n"
      ],
      "metadata": {
        "id": "K4yCmP6s1rDn"
      }
    },
    {
      "cell_type": "markdown",
      "source": [
        "Question 4:\n",
        "\n",
        "Extract the month from the rental date and display it alongside the rental ID.\n",
        "\n",
        "Hint: Employ the MONTH() function"
      ],
      "metadata": {
        "id": "t2HGNU9p1rL7"
      }
    },
    {
      "cell_type": "markdown",
      "source": [
        "SELECT rental_id,\n",
        "       MONTH(rental_date) AS rental_month\n",
        "FROM rental;\n"
      ],
      "metadata": {
        "id": "6oz7GqlH1rR-"
      }
    },
    {
      "cell_type": "markdown",
      "source": [
        "Question 5:\n",
        "\n",
        "Retrieve the count of rentals for each customer (display customer ID and the count of rentals).\n",
        "\n",
        "Hint: Use COUNT () in conjunction with GROUP BY."
      ],
      "metadata": {
        "id": "gSo9CO0r1rXp"
      }
    },
    {
      "cell_type": "markdown",
      "source": [
        "SELECT customer_id,\n",
        "       COUNT(*) AS rental_count\n",
        "FROM rental\n",
        "GROUP BY customer_id;\n"
      ],
      "metadata": {
        "id": "f3OuxhGR1re-"
      }
    },
    {
      "cell_type": "markdown",
      "source": [
        "Question 6:\n",
        "\n",
        "Find the total revenue generated by each store.\n",
        "\n",
        "Hint: Combine SUM() and GROUP BY."
      ],
      "metadata": {
        "id": "YRxh_K8h1rkj"
      }
    },
    {
      "cell_type": "markdown",
      "source": [
        "SELECT s.store_id,\n",
        "       SUM(p.amount) AS total_revenue\n",
        "FROM payment p\n",
        "JOIN staff s ON p.staff_id = s.staff_id\n",
        "GROUP BY s.store_id;\n"
      ],
      "metadata": {
        "id": "hzNIsJFk1rpm"
      }
    },
    {
      "cell_type": "markdown",
      "source": [
        "Question 7:\n",
        "\n",
        "Determine the total number of rentals for each category of movies.\n",
        "\n",
        "Hint: JOIN film_category, film, and rental tables, then use cOUNT () and GROUP BY"
      ],
      "metadata": {
        "id": "ABSZSn4k1rvH"
      }
    },
    {
      "cell_type": "markdown",
      "source": [
        "SELECT c.name AS category,\n",
        "       COUNT(r.rental_id) AS total_rentals\n",
        "FROM rental r\n",
        "JOIN inventory i ON r.inventory_id = i.inventory_id\n",
        "JOIN film f ON i.film_id = f.film_id\n",
        "JOIN film_category fc ON f.film_id = fc.film_id\n",
        "JOIN category c ON fc.category_id = c.category_id\n",
        "GROUP BY c.name\n",
        "ORDER BY total_rentals DESC;\n"
      ],
      "metadata": {
        "id": "wBU8DVlK1r0U"
      }
    },
    {
      "cell_type": "markdown",
      "source": [
        "Question 8:\n",
        "\n",
        "Find the average rental rate of movies in each language.\n",
        "\n",
        "Hint: JOIN film and language tables, then use AVG () and GROUP BY"
      ],
      "metadata": {
        "id": "AUYp6BA71r5z"
      }
    },
    {
      "cell_type": "markdown",
      "source": [
        "SELECT l.name AS language,\n",
        "       AVG(f.rental_rate) AS average_rental_rate\n",
        "FROM film f\n",
        "JOIN language l ON f.language_id = l.language_id\n",
        "GROUP BY l.name\n",
        "ORDER BY average_rental_rate DESC;\n"
      ],
      "metadata": {
        "id": "PuYlOA4q38aZ"
      }
    },
    {
      "cell_type": "markdown",
      "source": [
        "Questions 9 -\n",
        "\n",
        "Display the title of the movie, customer s first name, and last name who rented it.\n",
        "\n",
        "Hint: Use JOIN between the film, inventory, rental, and customer tables."
      ],
      "metadata": {
        "id": "aXp1Kh0g4gCz"
      }
    },
    {
      "cell_type": "markdown",
      "source": [
        "SELECT f.title AS movie_title,\n",
        "       c.first_name,\n",
        "       c.last_name\n",
        "FROM rental r\n",
        "JOIN inventory i ON r.inventory_id = i.inventory_id\n",
        "JOIN film f ON i.film_id = f.film_id\n",
        "JOIN customer c ON r.customer_id = c.customer_id;\n"
      ],
      "metadata": {
        "id": "cvHxmcE-4iUA"
      }
    },
    {
      "cell_type": "markdown",
      "source": [
        "Question 10:\n",
        "\n",
        "Retrieve the names of all actors who have appeared in the film \"Gone with the Wind.\"\n",
        "\n",
        "Hint: Use JOIN between the film actor, film, and actor tables."
      ],
      "metadata": {
        "id": "Sy0nNaT84iZq"
      }
    },
    {
      "cell_type": "markdown",
      "source": [
        "SELECT a.first_name, a.last_name\n",
        "FROM actor a\n",
        "JOIN film_actor fa ON a.actor_id = fa.actor_id\n",
        "JOIN film f ON fa.film_id = f.film_id\n",
        "WHERE f.title = 'Gone with the Wind';\n"
      ],
      "metadata": {
        "id": "Ervw_n6G4ie5"
      }
    },
    {
      "cell_type": "markdown",
      "source": [
        "Question 11:\n",
        "\n",
        "Retrieve the customer names along with the total amount they've spent on rentals.\n",
        "\n",
        "Hint: JOIN customer, payment, and rental tables, then use SUM() and GROUP BY."
      ],
      "metadata": {
        "id": "kgtJjEfF4ikX"
      }
    },
    {
      "cell_type": "markdown",
      "source": [
        "SELECT c.first_name,\n",
        "       c.last_name,\n",
        "       SUM(p.amount) AS total_spent\n",
        "FROM customer c\n",
        "JOIN payment p ON c.customer_id = p.customer_id\n",
        "JOIN rental r ON p.rental_id = r.rental_id\n",
        "GROUP BY c.customer_id, c.first_name, c.last_name\n",
        "ORDER BY total_spent DE_\n"
      ],
      "metadata": {
        "id": "PUMfMj-Z4ir9"
      }
    },
    {
      "cell_type": "markdown",
      "source": [
        "Question 12:\n",
        "\n",
        "List the titles of movies rented by each customer in a particular city (e.g., 'London').\n",
        "\n",
        "Hint: JOIN customer, address, city, rental, inventory, and film tables, then use GROUP BY."
      ],
      "metadata": {
        "id": "7IElI6AQ4iyB"
      }
    },
    {
      "cell_type": "markdown",
      "source": [
        "SELECT c.customer_id,\n",
        "       c.first_name,\n",
        "       c.last_name,\n",
        "       GROUP_CONCAT(f.title ORDER BY f.title) AS rented_movies\n",
        "FROM customer c\n",
        "JOIN address a ON c.address_id = a.address_id\n",
        "JOIN city ci ON a.city_id = ci.city_id\n",
        "JOIN rental r ON c.customer_id = r.customer_id\n",
        "JOIN inventory i ON r.inventory_id = i.inventory_id\n",
        "JOIN film f ON i.film_id = f.film_id\n",
        "WHERE ci.city = 'London'\n",
        "GROUP BY c.customer_id, c.first_name, c.last_name\n",
        "ORDER BY c.last_name, c.first_name;\n"
      ],
      "metadata": {
        "id": "bWPlBTK24i3v"
      }
    },
    {
      "cell_type": "markdown",
      "source": [
        "Question 13:\n",
        "\n",
        "Display the top 5 rented movies along with the number of times they've been rented.\n",
        "\n",
        "Hint: JOIN film, inventory, and rental tables, then use COUNT () and GROUP BY, and limit the results."
      ],
      "metadata": {
        "id": "lp4NKQpE5zrJ"
      }
    },
    {
      "cell_type": "markdown",
      "source": [
        "SELECT f.title,\n",
        "       COUNT(r.rental_id) AS rental_count\n",
        "FROM film f\n",
        "JOIN inventory i ON f.film_id = i.film_id\n",
        "JOIN rental r ON i.inventory_id = r.inventory_id\n",
        "GROUP BY f.film_id, f.title\n",
        "ORDER BY rental_count DESC\n",
        "LIMIT 5;\n"
      ],
      "metadata": {
        "id": "e6ZQup3y50Sd"
      }
    },
    {
      "cell_type": "markdown",
      "source": [
        "Question 14:\n",
        "\n",
        "Determine the customers who have rented movies from both stores (store ID 1 and store ID 2).\n",
        "\n",
        "Hint: Use JOINS with rental, inventory, and customer tables and consider COUNT() and GROUP BY."
      ],
      "metadata": {
        "id": "Uo_Aictc50nL"
      }
    },
    {
      "cell_type": "markdown",
      "source": [
        "SELECT c.customer_id, c.first_name, c.last_name\n",
        "FROM customer c\n",
        "JOIN rental r ON c.customer_id = r.customer_id\n",
        "JOIN inventory i ON r.inventory_id = i.inventory_id\n",
        "WHERE i.store_id IN (1, 2)\n",
        "GROUP BY c.customer_id, c.first_name, c.last_name\n",
        "HAVING COUNT(DISTINCT i.store_id) = 2;\n"
      ],
      "metadata": {
        "id": "FOr6-woS504-"
      }
    },
    {
      "cell_type": "markdown",
      "source": [
        "Windows Function:"
      ],
      "metadata": {
        "id": "49SUhu_U51PZ"
      }
    },
    {
      "cell_type": "markdown",
      "source": [
        "1. Rank the customers based on the total amount they've spent on rentals"
      ],
      "metadata": {
        "id": "W9xyZa7G51gt"
      }
    },
    {
      "cell_type": "markdown",
      "source": [
        "SELECT\n",
        "    c.customer_id,\n",
        "    c.first_name,\n",
        "    c.last_name,\n",
        "    SUM(p.amount) AS total_spent,\n",
        "    RANK() OVER (ORDER BY SUM(p.amount) DESC) AS spending_rank\n",
        "FROM customer c\n",
        "JOIN payment p ON c.customer_id = p.customer_id\n",
        "GROUP BY c.customer_id, c.first_name, c.last_name\n",
        "ORDER BY spending_rank;\n"
      ],
      "metadata": {
        "id": "eYPutS_451xp"
      }
    },
    {
      "cell_type": "markdown",
      "source": [
        "2. Calculate the cumulative revenue generated by each film over time"
      ],
      "metadata": {
        "id": "ZlcDDqCf52Af"
      }
    },
    {
      "cell_type": "markdown",
      "source": [
        "SELECT\n",
        "    f.film_id,\n",
        "    f.title,\n",
        "    p.payment_date,\n",
        "    SUM(p.amount) OVER (PARTITION BY f.film_id ORDER BY p.payment_date\n",
        "                        ROWS BETWEEN UNBOUNDED PRECEDING AND CURRENT ROW) AS cumulative_revenue\n",
        "FROM payment p\n",
        "JOIN rental r ON p.rental_id = r.rental_id\n",
        "JOIN inventory i ON r.inventory_id = i.inventory_id\n",
        "JOIN film f ON i.film_id = f.film_id\n",
        "ORDER BY f.film_id, p.payment_date;\n"
      ],
      "metadata": {
        "id": "iXUNIppH7XtW"
      }
    },
    {
      "cell_type": "markdown",
      "source": [
        "3. Determine the average rental duration for each film, considering films with similar lengths."
      ],
      "metadata": {
        "id": "5tTAP0-U7YCG"
      }
    },
    {
      "cell_type": "markdown",
      "source": [
        "SELECT\n",
        "    FLOOR(f.length / 30) * 30 AS length_range_start,\n",
        "    FLOOR(f.length / 30) * 30 + 29 AS length_range_end,\n",
        "    AVG(f.rental_duration) AS average_rental_duration,\n",
        "    COUNT(*) AS film_count\n",
        "FROM film f\n",
        "GROUP BY length_range_start, length_range_end\n",
        "ORDER BY length_range_start;\n"
      ],
      "metadata": {
        "id": "l9FhfDAk7YLw"
      }
    },
    {
      "cell_type": "markdown",
      "source": [
        "4. Identify the top 3 films in each category based on their rental counts."
      ],
      "metadata": {
        "id": "wj3-v3w_7YUg"
      }
    },
    {
      "cell_type": "markdown",
      "source": [
        "SELECT category_name, film_title, rental_count\n",
        "FROM (\n",
        "    SELECT\n",
        "        c.name AS category_name,\n",
        "        f.title AS film_title,\n",
        "        COUNT(r.rental_id) AS rental_count,\n",
        "        ROW_NUMBER() OVER (PARTITION BY c.category_id ORDER BY COUNT(r.rental_id) DESC) AS rn\n",
        "    FROM film f\n",
        "    JOIN film_category fc ON f.film_id = fc.film_id\n",
        "    JOIN category c ON fc.category_id = c.category_id\n",
        "    JOIN inventory i ON f.film_id = i.film_id\n",
        "    JOIN rental r ON i.inventory_id = r.inventory_id\n",
        "    GROUP BY c.category_id, c.name, f.film_id, f.title\n",
        ") ranked_films\n",
        "WHERE rn <= 3\n",
        "ORDER BY category_name, rental_count DESC;\n"
      ],
      "metadata": {
        "id": "OziDO3Yj7Yeo"
      }
    },
    {
      "cell_type": "markdown",
      "source": [
        "5. Calculate the difference in rental counts between each customer's total rentals and the average rentals\n",
        "\n",
        "across all customers."
      ],
      "metadata": {
        "id": "O10G_dI57Yk-"
      }
    },
    {
      "cell_type": "markdown",
      "source": [
        "WITH customer_rentals AS (\n",
        "    SELECT\n",
        "        customer_id,\n",
        "        COUNT(*) AS total_rentals\n",
        "    FROM rental\n",
        "    GROUP BY customer_id\n",
        "),\n",
        "average_rentals AS (\n",
        "    SELECT AVG(total_rentals) AS avg_rentals\n",
        "    FROM customer_rentals\n",
        ")\n",
        "SELECT\n",
        "    cr.customer_id,\n",
        "    cr.total_rentals,\n",
        "    ar.avg_rentals,\n",
        "    cr.total_rentals - ar.avg_rentals AS difference_from_average\n",
        "FROM customer_rentals cr\n",
        "CROSS JOIN average_rentals ar\n",
        "ORDER BY difference_from_average DESC;\n"
      ],
      "metadata": {
        "id": "ZW0YwGjd7YsP"
      }
    },
    {
      "cell_type": "markdown",
      "source": [
        "6. Find the monthly revenue trend for the entire rental store over time."
      ],
      "metadata": {
        "id": "y5BHaFqq7YzG"
      }
    },
    {
      "cell_type": "markdown",
      "source": [
        "SELECT\n",
        "    DATE_FORMAT(p.payment_date, '%Y-%m') AS year_month,\n",
        "    SUM(p.amount) AS total_revenue\n",
        "FROM payment p\n",
        "GROUP BY year_month\n",
        "ORDER BY year_month;\n"
      ],
      "metadata": {
        "id": "-tb4pUVr8qWy"
      }
    },
    {
      "cell_type": "markdown",
      "source": [
        "7. Identify the customers whose total spending on rentals falls within the top 20% of all customers."
      ],
      "metadata": {
        "id": "CfMcdKVd8qpH"
      }
    },
    {
      "cell_type": "markdown",
      "source": [
        "WITH customer_spending AS (\n",
        "    SELECT\n",
        "        c.customer_id,\n",
        "        c.first_name,\n",
        "        c.last_name,\n",
        "        SUM(p.amount) AS total_spent\n",
        "    FROM customer c\n",
        "    JOIN payment p ON c.customer_id = p.customer_id\n",
        "    GROUP BY c.customer_id, c.first_name, c.last_name\n",
        "),\n",
        "spending_threshold AS (\n",
        "    SELECT\n",
        "        PERCENTILE_CONT(0.8) WITHIN GROUP (ORDER BY total_spent) AS threshold\n",
        "    FROM customer_spending\n",
        ")\n",
        "SELECT\n",
        "    cs.customer_id,\n",
        "    cs.first_name,\n",
        "    cs.last_name,\n",
        "    cs.total_spent\n",
        "FROM customer_spending cs, spending_threshold st\n",
        "WHERE cs.total_spent >= st.threshold\n",
        "ORDER BY cs.total_spent DESC;\n"
      ],
      "metadata": {
        "id": "wONndu1S8qzZ"
      }
    },
    {
      "cell_type": "markdown",
      "source": [
        "8. Calculate the running total of rentals per category, ordered by rental count.\n",
        "\n"
      ],
      "metadata": {
        "id": "MuPT2LjN8q5b"
      }
    },
    {
      "cell_type": "markdown",
      "source": [
        "WITH category_rentals AS (\n",
        "    SELECT\n",
        "        c.category_id,\n",
        "        c.name AS category_name,\n",
        "        COUNT(r.rental_id) AS rental_count\n",
        "    FROM category c\n",
        "    JOIN film_category fc ON c.category_id = fc.category_id\n",
        "    JOIN inventory i ON fc.film_id = i.film_id\n",
        "    JOIN rental r ON i.inventory_id = r.inventory_id\n",
        "    GROUP BY c.category_id, c.name\n",
        ")\n",
        "SELECT\n",
        "    category_name,\n",
        "    rental_count,\n",
        "    SUM(rental_count) OVER (ORDER BY rental_count) AS running_total_rentals\n",
        "FROM category_rentals\n",
        "ORDER BY rental_count;\n"
      ],
      "metadata": {
        "id": "s2g0Co5H8q_w"
      }
    },
    {
      "cell_type": "markdown",
      "source": [
        "9. Find the films that have been rented less than the average rental count for their respective categories."
      ],
      "metadata": {
        "id": "BllplRtn8rGq"
      }
    },
    {
      "cell_type": "markdown",
      "source": [
        "WITH film_rentals AS (\n",
        "    SELECT\n",
        "        f.film_id,\n",
        "        f.title,\n",
        "        c.category_id,\n",
        "        c.name AS category_name,\n",
        "        COUNT(r.rental_id) AS rental_count\n",
        "    FROM film f\n",
        "    JOIN film_category fc ON f.film_id = fc.film_id\n",
        "    JOIN category c ON fc.category_id = c.category_id\n",
        "    LEFT JOIN inventory i ON f.film_id = i.film_id\n",
        "    LEFT JOIN rental r ON i.inventory_id = r.inventory_id\n",
        "    GROUP BY f.film_id, f.title, c.category_id, c.name\n",
        "),\n",
        "category_avg AS (\n",
        "    SELECT\n",
        "        category_id,\n",
        "        AVG(rental_count) AS avg_rental_count\n",
        "    FROM film_rentals\n",
        "    GROUP BY category_id\n",
        ")\n",
        "SELECT\n",
        "    fr.film_id,\n",
        "    fr.title,\n",
        "    fr.category_name,\n",
        "    fr.rental_count,\n",
        "    ca.avg_rental_count\n",
        "FROM\n"
      ],
      "metadata": {
        "id": "kcyleGB29smp"
      }
    },
    {
      "cell_type": "markdown",
      "source": [
        "10. Identify the top 5 months with the highest revenue and display the revenue generated in each month."
      ],
      "metadata": {
        "id": "KVzBSKHq9tB5"
      }
    },
    {
      "cell_type": "markdown",
      "source": [
        "SELECT\n",
        "    DATE_FORMAT(payment_date, '%Y-%m') AS year_month,\n",
        "    SUM(amount) AS total_revenue\n",
        "FROM payment\n",
        "GROUP BY year_month\n",
        "ORDER BY total_revenue DESC\n",
        "LIMIT 5;\n"
      ],
      "metadata": {
        "id": "bOpXIgF_9utQ"
      }
    },
    {
      "cell_type": "markdown",
      "source": [
        "Normalisation & CTE"
      ],
      "metadata": {
        "id": "ulcOBLMN0cqU"
      }
    },
    {
      "cell_type": "markdown",
      "source": [
        "1. First Normal Form (1NF):\n",
        "\n",
        " a. Identify a table in the Sakila database that violates 1NF. Explain how you\n",
        "\n",
        " would normalize it"
      ],
      "metadata": {
        "id": "IZ2y34nC0c6_"
      }
    },
    {
      "cell_type": "markdown",
      "source": [
        " Definition of 1NF (First Normal Form):\n",
        "A relation (table) is in 1NF if:\n",
        "\n",
        "All attributes (columns) contain only atomic (indivisible) values.\n",
        "\n",
        "There are no repeating groups or arrays/multiple values in a single column.\n",
        "\n",
        " Identifying a Table in Sakila that Violates 1NF\n",
        "In the Sakila sample database, the address table potentially violates 1NF because of the phone field. But a clearer example would be the film table due to its many-to-many relationships being flattened into non-atomic fields in poorly designed systems.\n",
        "\n",
        "However, in Sakila, the database is already normalized. But let’s assume a denormalized version of a table like film_actor where:\n",
        "\n",
        " Hypothetical example of a bad (1NF-violating) film table:\n",
        "film_id\ttitle\tactor_names\n",
        "1\tJurassic Park\tSam Neill, Laura Dern\n",
        "2\tTitanic\tLeonardo DiCaprio, Kate Winslet\n",
        "\n",
        "Here, actor_names contains multiple values in a single field (comma-separated), violating 1NF.\n",
        "\n",
        " How to Normalize It to 1NF\n",
        "To bring this table into 1NF, we need to remove the repeating group and make each field atomic by creating a separate table to represent the many-to-many relationship.\n",
        "\n",
        " Step-by-step Normalization:\n",
        "Create separate tables:\n",
        "\n",
        "film(film_id, title)\n",
        "\n",
        "actor(actor_id, name)\n",
        "\n",
        "film_actor(film_id, actor_id) → This is the junction (bridge) table.\n",
        "\n",
        "Example after normalization:\n",
        "\n",
        "film\n",
        "\n",
        "film_id\ttitle\n",
        "1\tJurassic Park\n",
        "2\tTitanic\n",
        "\n",
        "actor\n",
        "\n",
        "actor_id\tname\n",
        "1\tSam Neill\n",
        "2\tLaura Dern\n",
        "3\tLeonardo DiCaprio\n",
        "4\tKate Winslet\n",
        "\n",
        "film_actor\n",
        "\n",
        "film_id\tactor_id\n",
        "1\t1\n",
        "1\t2\n",
        "2\t3\n",
        "2\t4\n",
        "\n",
        "This way, each column contains atomic values and the relationship is normalized.\n",
        "\n",
        " Summary:\n",
        "1NF violation occurs when a field contains multiple values.\n",
        "\n",
        "In Sakila, a denormalized version of film with a field like actor_names would violate 1NF.\n",
        "\n",
        "Fix: Separate into related tables and use foreign keys to maintain relationships.\n",
        "\n",
        "Would you like to see a real query from Sakila to demonstrate this structure?\n",
        "\n",
        "\n",
        "\n",
        "\n",
        "\n",
        "\n",
        "\n"
      ],
      "metadata": {
        "id": "TWsywccy0dI8"
      }
    },
    {
      "cell_type": "markdown",
      "source": [
        "2. Second Normal Form (2NF):\n",
        "\n",
        " a. Choose a table in Sakila and describe how you would determine whether it is in 2NF.\n",
        "\n",
        " If it violat"
      ],
      "metadata": {
        "id": "XPcXRiPm0dTy"
      }
    },
    {
      "cell_type": "markdown",
      "source": [
        " Definition of 2NF:\n",
        "A table is in Second Normal Form (2NF) if:\n",
        "\n",
        "It is already in First Normal Form (1NF).\n",
        "\n",
        "Every non-prime attribute (i.e., not part of any candidate key) is fully functionally dependent on the entire primary key, and not just part of it.\n",
        "\n",
        " Candidate Table: film_category\n",
        "Let’s analyze the film_category table in the Sakila database.\n",
        "\n",
        "Structure of film_category:\n",
        "\n",
        "Column\tDescription\n",
        "film_id\tFK to film table\n",
        "category_id\tFK to category table\n",
        "last_update\tTimestamp\n",
        "\n",
        "Primary Key: (film_id, category_id) → Composite key.\n",
        "\n",
        " Check: Is it in 2NF?\n",
        "We look at each non-prime attribute and check if it's dependent on the entire composite key, not just a part of it.\n",
        "\n",
        "Non-prime attribute: last_update\n",
        "\n",
        "Is last_update dependent on:\n",
        "\n",
        "Only film_id\n",
        "\n",
        "Only category_id\n",
        "\n",
        "Both film_id and category_id\n",
        "\n",
        "If last_update is only related to film_id, not the combination of film_id + category_id, then it violates 2NF.\n",
        "\n",
        " Assume it Violates 2NF:\n",
        "Let’s assume last_update is related only to the film (i.e., updated whenever the film record is updated). Then, we are storing redundant data across rows for each category the film has.\n",
        "\n",
        " To Normalize to 2NF:\n",
        "Step 1: Remove Partial Dependency\n",
        "\n",
        "If last_update belongs to the film entity and not the film-category pair:\n",
        "\n",
        "Remove last_update from film_category.\n",
        "\n",
        "Store it in the film table (if not already there).\n",
        "\n",
        " Revised Tables:\n",
        "film_category\n",
        "\n",
        "film_id\tcategory_id\n",
        "1\t2\n",
        "1\t3\n",
        "\n",
        "film\n",
        "\n",
        "film_id\ttitle\tlast_update\n",
        "1\tJurassic Park\t2024-06-01\n",
        "\n",
        "Now, film_category has no partial dependencies — every non-key attribute depends on the full key.\n",
        "\n",
        " Summary:\n",
        "Table: film_category\n",
        "\n",
        "Issue: last_update may depend only on film_id, not the composite key.\n",
        "\n",
        "Solution: Move last_update to the correct table (film) so that all attributes in film_category depend on the whole composite key, satisfying 2NF.\n",
        "\n",
        "Would you like a real query to explore this data or normalize a different table?\n",
        "\n",
        "\n",
        "\n",
        "\n",
        "\n",
        "\n",
        "\n",
        "\n"
      ],
      "metadata": {
        "id": "FZo0rfMs0deu"
      }
    },
    {
      "cell_type": "markdown",
      "source": [
        "3. Third Normal Form (3NF):\n",
        "\n",
        " a. Identify a table in Sakila that violates 3NF. Describe the transitive dependencies\n",
        "\n",
        " presen"
      ],
      "metadata": {
        "id": "EJwlyn8T0dnP"
      }
    },
    {
      "cell_type": "markdown",
      "source": [
        " Definition of 3NF:\n",
        "A table is in Third Normal Form (3NF) if:\n",
        "\n",
        "It is already in Second Normal Form (2NF).\n",
        "\n",
        "There is no transitive dependency — i.e., non-prime attributes do not depend on other non-prime attributes.\n",
        "\n",
        " Example Table: staff (from Sakila)\n",
        "Let’s analyze the structure of the staff table:\n",
        "\n",
        "Column\tDescription\n",
        "staff_id\tPrimary key\n",
        "first_name\tStaff first name\n",
        "last_name\tStaff last name\n",
        "address_id\tFK to address table\n",
        "address\tFull address (violates 3NF)\n",
        "city\tCity name (possibly here)\n",
        "store_id\tStore staff works in\n",
        "...\tOther fields\n",
        "\n",
        " Potential 3NF Violation:\n",
        "Let’s assume that in a poorly normalized version of the table, we had the following columns:\n",
        "\n",
        "staff_id\taddress_id\taddress\tcity\tcountry\n",
        "\n",
        "Here’s the problem:\n",
        "\n",
        "address_id → address\n",
        "\n",
        "address → city\n",
        "\n",
        "city → country\n",
        "\n",
        "So, we have a transitive dependency chain:\n",
        "\n",
        "address_id → address → city → country\n",
        "\n",
        "country is not directly dependent on staff_id (primary key), but on city, which is dependent on address, which is dependent on address_id — this violates 3NF.\n",
        "\n",
        " How to Normalize It to 3NF:\n",
        "Break the table into smaller, related tables so that non-key attributes only depend on the primary key, not on other non-key attributes.\n",
        "\n",
        " Revised Normalized Tables:\n",
        "staff (staff_id, first_name, last_name, address_id, store_id)\n",
        "\n",
        "address (address_id, address, city_id)\n",
        "\n",
        "city (city_id, city, country_id)\n",
        "\n",
        "country (country_id, country)\n",
        "\n",
        "Now the dependencies are:\n",
        "\n",
        "staff → address_id\n",
        "\n",
        "address → city_id\n",
        "\n",
        "city → country_id\n",
        "\n",
        "There are no transitive dependencies within any one table — this satisfies 3NF.\n",
        "\n",
        " Summary:\n",
        "Violating Table: staff (if it includes address, city, country directly).\n",
        "\n",
        "Transitive Dependencies: staff_id → address → city → country\n",
        "\n",
        "Fix: Split into staff, address, city, country tables with proper foreign keys.\n",
        "\n",
        "Would you like a diagram or ERD of the normalized structure for better understanding?\n",
        "\n",
        "\n",
        "\n",
        "\n",
        "\n",
        "\n",
        "\n",
        "\n"
      ],
      "metadata": {
        "id": "zetH75yb0duo"
      }
    },
    {
      "cell_type": "markdown",
      "source": [
        "4. Normalization Process:\n",
        "\n",
        " a. Take a specific table in Sakila and guide through the process of normalizing it from the initial\n",
        "\n",
        " unnormalized f"
      ],
      "metadata": {
        "id": "rV0EreJ80dzn"
      }
    },
    {
      "cell_type": "markdown",
      "source": [
        " Selected Table: rental (Unnormalized)\n",
        "Let’s assume the original (unnormalized) version of the rental table looks like this:\n",
        "\n",
        " Unnormalized Form (UNF):\n",
        "rental_id\tcustomer_name\tfilms_rented\trental_date\n",
        "1\tJohn Smith\t[Matrix, Inception, Titanic]\t2024-05-01 10:00\n",
        "2\tAlice Johnson\t[Avatar, Titanic]\t2024-05-02 15:30\n",
        "\n",
        "films_rented is a repeating group, storing multiple values in one column.\n",
        "\n",
        "customer_name is not atomic, as we might need to separate first and last name.\n",
        "\n",
        " Step 1: Convert to First Normal Form (1NF)\n",
        " Goal:\n",
        "Remove repeating groups\n",
        "\n",
        "Ensure all fields are atomic\n",
        "\n",
        " 1NF-compliant structure:\n",
        "rental_id\tcustomer_name\tfilm_title\trental_date\n",
        "1\tJohn Smith\tMatrix\t2024-05-01 10:00\n",
        "1\tJohn Smith\tInception\t2024-05-01 10:00\n",
        "1\tJohn Smith\tTitanic\t2024-05-01 10:00\n",
        "2\tAlice Johnson\tAvatar\t2024-05-02 15:30\n",
        "2\tAlice Johnson\tTitanic\t2024-05-02 15:30\n",
        "\n",
        "Now each field holds atomic values, and we have one row per film rented.\n",
        "\n",
        " Step 2: Convert to Second Normal Form (2NF)\n",
        " Goal:\n",
        "Remove partial dependencies\n",
        "\n",
        "Non-key attributes must depend on the entire primary key\n",
        "\n",
        "In this case, suppose the composite key is (rental_id, film_title). But customer_name depends only on rental_id, not the film.\n",
        "\n",
        " Normalize into separate tables:\n",
        "rental (rental_id, customer_name, rental_date)\n",
        "\n",
        "rental_film (rental_id, film_title)\n",
        "\n",
        "This eliminates the partial dependency of customer_name on just rental_id.\n",
        "\n",
        " Step 3: Convert to Third Normal Form (3NF)\n",
        " Goal:\n",
        "Remove transitive dependencies\n",
        "\n",
        "Non-key attributes must depend only on the primary key, not other non-key attributes\n",
        "\n",
        "Let’s say:\n",
        "\n",
        "customer_name actually includes full name which should be broken down.\n",
        "\n",
        "film_title may lead to redundancy; we should instead store film IDs.\n",
        "\n",
        " Final Normalized Structure:\n",
        "rental (rental_id, customer_id, rental_date)\n",
        "\n",
        "customer (customer_id, first_name, last_name)\n",
        "\n",
        "rental_film (rental_id, film_id)\n",
        "\n",
        "film (film_id, title, description, release_year, etc.)\n",
        "\n",
        " Summary of Normalization Process:\n",
        "Step\tTransformation Goal\tChange Made\n",
        "UNF\tOriginal table with multivalued fields\tfilms_rented had multiple values\n",
        "1NF\tAtomic values, no repeating groups\tSeparated each film into its own row\n",
        "2NF\tEliminate partial dependencies\tMoved customer_name to a separate rental table\n",
        "3NF\tEliminate transitive dependencies\tCreated customer and film tables\n",
        "\n",
        "Would you like me to create SQL statements for these normalized tables or show this process in a visual diagram (ERD)?\n",
        "\n",
        "\n",
        "\n",
        "\n",
        "\n",
        "\n",
        "\n",
        "\n"
      ],
      "metadata": {
        "id": "ivUQ6Pxm214P"
      }
    },
    {
      "cell_type": "markdown",
      "source": [
        "5. CTE Basics:\n",
        "\n",
        " a. Write a query using a CTE to retrieve the distinct list of actor names and the number of films they\n",
        "\n",
        " have acted in from th"
      ],
      "metadata": {
        "id": "H6viVtp-22K7"
      }
    },
    {
      "cell_type": "markdown",
      "source": [
        " Goal:\n",
        "From the Sakila database, get:\n",
        "\n",
        "Actor’s full name (first_name + last_name)\n",
        "\n",
        "Number of films they have acted in\n",
        "\n",
        " Tables Involved:\n",
        "actor – contains actor details\n",
        "\n",
        "film_actor – links actors and films\n",
        "\n",
        " Step-by-step using a CTE:\n",
        "sql\n",
        "Copy\n",
        "Edit\n",
        "-- Step 1: Use CTE to get film count per actor\n",
        "WITH actor_film_count AS (\n",
        "    SELECT\n",
        "        a.actor_id,\n",
        "        CONCAT(a.first_name, ' ', a.last_name) AS actor_name,\n",
        "        COUNT(fa.film_id) AS film_count\n",
        "    FROM\n",
        "        actor a\n",
        "    JOIN\n",
        "        film_actor fa ON a.actor_id = fa.actor_id\n",
        "    GROUP BY\n",
        "        a.actor_id, a.first_name, a.last_name\n",
        ")\n",
        "\n",
        "-- Step 2: Select from CTE\n",
        "SELECT\n",
        "    actor_name,\n",
        "    film_count\n",
        "FROM\n",
        "    actor_film_count\n",
        "ORDER BY\n",
        "    film_count DESC;\n",
        "🧾 Output Example:\n",
        "actor_name\tfilm_count\n",
        "John Smith\t24\n",
        "Emily Watson\t21\n",
        "Leonardo DiCaprio\t18\n",
        "\n",
        " Explanation:\n",
        "CTE actor_film_count: computes the number of films for each actor.\n",
        "\n",
        "CONCAT(first_name, last_name): gives full name.\n",
        "\n",
        "COUNT(film_id): total films per actor.\n",
        "\n",
        "GROUP BY: groups data per actor.\n",
        "\n",
        "ORDER BY: sorts by most films.\n",
        "\n",
        "Would you like to filter this further, such as top 10 actors or only those with more than 10 films?\n",
        "\n",
        "\n",
        "\n",
        "\n",
        "\n",
        "\n",
        "\n",
        "\n"
      ],
      "metadata": {
        "id": "iQVZwoSo3EnF"
      }
    },
    {
      "cell_type": "markdown",
      "source": [
        "6. CTE with Joins:\n",
        "\n",
        " a. Create a CTE that combines information from the film and language tables to display the film title,\n",
        "\n",
        " language"
      ],
      "metadata": {
        "id": "mB8IzYze3E5a"
      }
    },
    {
      "cell_type": "markdown",
      "source": [
        " Goal:\n",
        "Using a CTE, retrieve:\n",
        "\n",
        "film.title\n",
        "\n",
        "language.name (the language of the film)\n",
        "\n",
        " Tables Involved:\n",
        "film\n",
        "\n",
        "Columns: film_id, title, language_id, ...\n",
        "\n",
        "language\n",
        "\n",
        "Columns: language_id, name (language name)\n",
        "\n",
        " CTE Query with JOIN:\n",
        "sql\n",
        "Copy\n",
        "Edit\n",
        "-- Step 1: CTE that joins film and language tables\n",
        "WITH film_language_cte AS (\n",
        "    SELECT\n",
        "        f.film_id,\n",
        "        f.title AS film_title,\n",
        "        l.name AS language_name\n",
        "    FROM\n",
        "        film f\n",
        "    JOIN\n",
        "        language l ON f.language_id = l.language_id\n",
        ")\n",
        "\n",
        "-- Step 2: Select from the CTE\n",
        "SELECT\n",
        "    film_title,\n",
        "    language_name\n",
        "FROM\n",
        "    film_language_cte\n",
        "ORDER BY\n",
        "    film_title;\n",
        " Sample Output:\n",
        "film_title\tlanguage_name\n",
        "ACADEMY DINOSAUR\tEnglish\n",
        "AFFAIR PREJUDICE\tItalian\n",
        "ALIEN CENTER\tFrench\n",
        "\n",
        " Explanation:\n",
        "The CTE named film_language_cte joins the film table with the language table using the language_id.\n",
        "\n",
        "After defining the CTE, we query from it to get clean output of film titles with their respective languages.\n",
        "\n",
        "Would you like to expand this to include rental rate, release year, or category as well?\n",
        "\n",
        "\n",
        "\n",
        "\n",
        "\n",
        "\n",
        "\n",
        "\n"
      ],
      "metadata": {
        "id": "GlcNGjVZ3FJi"
      }
    },
    {
      "cell_type": "markdown",
      "source": [
        "7. CTE for Aggregation:\n",
        "\n",
        " a. Write a query using a CTE to find the total revenue generated by each customer (sum of payments)\n",
        "\n",
        " from"
      ],
      "metadata": {
        "id": "y61ES9ts3Fbw"
      }
    },
    {
      "cell_type": "markdown",
      "source": [
        " Goal:\n",
        "Retrieve:\n",
        "\n",
        "Customer’s full name (first_name + last_name)\n",
        "\n",
        "Total revenue (sum of all their payments)\n",
        "\n",
        " Tables Involved:\n",
        "customer – contains customer info\n",
        "\n",
        "payment – contains payment amounts linked to each customer\n",
        "\n",
        " CTE Query with Aggregation:\n",
        "sql\n",
        "Copy\n",
        "Edit\n",
        "-- Step 1: CTE to calculate total payment per customer\n",
        "WITH customer_revenue AS (\n",
        "    SELECT\n",
        "        c.customer_id,\n",
        "        CONCAT(c.first_name, ' ', c.last_name) AS customer_name,\n",
        "        SUM(p.amount) AS total_revenue\n",
        "    FROM\n",
        "        customer c\n",
        "    JOIN\n",
        "        payment p ON c.customer_id = p.customer_id\n",
        "    GROUP BY\n",
        "        c.customer_id, c.first_name, c.last_name\n",
        ")\n",
        "\n",
        "-- Step 2: Select from the CTE\n",
        "SELECT\n",
        "    customer_name,\n",
        "    total_revenue\n",
        "FROM\n",
        "    customer_revenue\n",
        "ORDER BY\n",
        "    total_revenue DESC;\n",
        " Sample Output:\n",
        "customer_name\ttotal_revenue\n",
        "Mary Smith\t220.50\n",
        "John Doe\t198.75\n",
        "Alice Johnson\t185.00\n",
        "\n",
        " Explanation:\n",
        "The CTE customer_revenue groups payments by customer and calculates the total.\n",
        "\n",
        "CONCAT(first_name, last_name) gives the full name.\n",
        "\n",
        "Final SELECT retrieves the aggregated revenue per customer, ordered from highest to lowest.\n",
        "\n",
        "Would you like to filter this for customers with more than ₹200 revenue or show only the top 10?\n",
        "\n",
        "\n",
        "\n",
        "\n",
        "\n",
        "\n",
        "\n",
        "\n"
      ],
      "metadata": {
        "id": "uaH3-mnA3FgN"
      }
    },
    {
      "cell_type": "markdown",
      "source": [
        "8. CTE with Window Functions:\n",
        "\n",
        " a. Utilize a CTE with a window function to rank films based on their rental duration from the film table"
      ],
      "metadata": {
        "id": "fZ-QQXP14ahI"
      }
    },
    {
      "cell_type": "markdown",
      "source": [
        " Goal:\n",
        "From the film table:\n",
        "\n",
        "Rank films based on their rental_duration\n",
        "\n",
        "Show film title, rental duration, and rank\n",
        "\n",
        " Table Involved:\n",
        "film\n",
        "\n",
        "Columns: film_id, title, rental_duration, etc.\n",
        "\n",
        " CTE with Window Function (RANK):\n",
        "sql\n",
        "Copy\n",
        "Edit\n",
        "-- Step 1: CTE with window function to rank films by rental_duration\n",
        "WITH film_ranks AS (\n",
        "    SELECT\n",
        "        film_id,\n",
        "        title,\n",
        "        rental_duration,\n",
        "        RANK() OVER (ORDER BY rental_duration DESC) AS duration_rank\n",
        "    FROM\n",
        "        film\n",
        ")\n",
        "\n",
        "-- Step 2: Select from the CTE\n",
        "SELECT\n",
        "    title,\n",
        "    rental_duration,\n",
        "    duration_rank\n",
        "FROM\n",
        "    film_ranks\n",
        "ORDER BY\n",
        "    duration_rank;\n",
        " Sample Output:\n",
        "title\trental_duration\tduration_rank\n",
        "LOST WORLD\t7\t1\n",
        "PIRATE ISLAND\t7\t1\n",
        "GALAXY WARRIORS\t6\t3\n",
        "ROMANTIC MISSION\t5\t4\n",
        "\n",
        " Explanation:\n",
        "RANK() assigns the same rank to films with the same rental duration.\n",
        "\n",
        "OVER (ORDER BY rental_duration DESC) ranks from longest to shortest duration.\n",
        "\n",
        "The CTE simplifies reuse and allows filtering, joining, or more aggregation in the next steps.\n",
        "\n",
        "Would you like to use DENSE_RANK or ROW_NUMBER instead, or filter to show only the top 5 longest-rented films?\n",
        "\n",
        "\n",
        "\n",
        "\n",
        "\n",
        "\n",
        "\n",
        "\n",
        "\n"
      ],
      "metadata": {
        "id": "Rpi9xvJ14aoa"
      }
    },
    {
      "cell_type": "markdown",
      "source": [
        "9.CTE and Filtering:\n",
        "\n",
        " a. Create a CTE to list customers who have made more than two rentals, and then join this CTE with the\n",
        "\n",
        " customer table to retrieve"
      ],
      "metadata": {
        "id": "cL88Snpv4atQ"
      }
    },
    {
      "cell_type": "markdown",
      "source": [
        " Goal:\n",
        "Retrieve:\n",
        "\n",
        "Customer full name\n",
        "\n",
        "Email\n",
        "\n",
        "Number of rentals\n",
        "For customers who have more than 2 rentals\n",
        "\n",
        " Tables Involved:\n",
        "rental – stores rental transactions (includes customer_id)\n",
        "\n",
        "customer – stores customer details\n",
        "\n",
        " CTE with Filtering:\n",
        "sql\n",
        "Copy\n",
        "Edit\n",
        "-- Step 1: CTE to find customers with more than 2 rentals\n",
        "WITH frequent_customers AS (\n",
        "    SELECT\n",
        "        customer_id,\n",
        "        COUNT(rental_id) AS rental_count\n",
        "    FROM\n",
        "        rental\n",
        "    GROUP BY\n",
        "        customer_id\n",
        "    HAVING\n",
        "        COUNT(rental_id) > 2\n",
        ")\n",
        "\n",
        "-- Step 2: Join with customer table to get details\n",
        "SELECT\n",
        "    CONCAT(c.first_name, ' ', c.last_name) AS customer_name,\n",
        "    c.email,\n",
        "    fc.rental_count\n",
        "FROM\n",
        "    frequent_customers fc\n",
        "JOIN\n",
        "    customer c ON fc.customer_id = c.customer_id\n",
        "ORDER BY\n",
        "    fc.rental_count DESC;\n",
        " Sample Output:\n",
        "customer_name\temail\trental_count\n",
        "John Doe\tjohn.doe@email.com\t15\n",
        "Alice Johnson\talice.j@email.com\t9\n",
        "Carlos García\tcarlosg@email.com\t3\n",
        "\n",
        " Explanation:\n",
        "The CTE frequent_customers counts rentals per customer.\n",
        "\n",
        "HAVING COUNT(rental_id) > 2 filters only customers with more than 2 rentals.\n",
        "\n",
        "We join with customer to get the full name and email.\n",
        "\n",
        "Results are ordered by the number of rentals, descending.\n",
        "\n",
        "Would you like to add filters like city or store as well?\n",
        "\n",
        "\n",
        "\n",
        "\n",
        "\n",
        "\n",
        "\n",
        "\n"
      ],
      "metadata": {
        "id": "0EJlwOVX4ayB"
      }
    },
    {
      "cell_type": "markdown",
      "source": [
        "10. CTE for Date Calculations:\n",
        "\n",
        " a. Write a query using a CTE to find the total number of rentals made each month, considering the\n",
        "\n",
        " rental_da"
      ],
      "metadata": {
        "id": "AbiCM_xj4Ymm"
      }
    },
    {
      "cell_type": "markdown",
      "source": [
        "-- Step 1: CTE to extract year and month, then count rentals\n",
        "WITH monthly_rentals AS (\n",
        "    SELECT\n",
        "        DATE_FORMAT(rental_date, '%Y-%m') AS rental_month,\n",
        "        COUNT(*) AS total_rentals\n",
        "    FROM\n",
        "        rental\n",
        "    GROUP BY\n",
        "        DATE_FORMAT(rental_date, '%Y-%m')\n",
        ")\n",
        "\n",
        "-- Step 2: Select from CTE\n",
        "SELECT\n",
        "    rental_month,\n",
        "    total_rentals\n",
        "FROM\n",
        "    monthly_rentals\n",
        "ORDER BY\n",
        "    rental_month;\n"
      ],
      "metadata": {
        "id": "73reYGfZ50h9"
      }
    },
    {
      "cell_type": "markdown",
      "source": [
        "11. CTE and Self-Join:\n",
        "\n",
        " a. Create a CTE to generate a report showing pairs of actors who have appeared in the same film\n",
        "\n",
        " together, using the film_actor"
      ],
      "metadata": {
        "id": "--H8wYEP506L"
      }
    },
    {
      "cell_type": "markdown",
      "source": [
        "-- Step 1: CTE to find actor pairs in the same film\n",
        "WITH actor_pairs AS (\n",
        "    SELECT\n",
        "        fa1.film_id,\n",
        "        fa1.actor_id AS actor1_id,\n",
        "        fa2.actor_id AS actor2_id\n",
        "    FROM\n",
        "        film_actor fa1\n",
        "    JOIN\n",
        "        film_actor fa2 ON fa1.film_id = fa2.film_id\n",
        "        AND fa1.actor_id < fa2.actor_id  -- avoid duplicate pairs and self-pairing\n",
        ")\n",
        "\n",
        "-- Step 2: Join CTE with actor and film tables to get names and film title\n",
        "SELECT\n",
        "    f.title AS film_title,\n",
        "    CONCAT(a1.first_name, ' ', a1.last_name) AS actor1_name,\n",
        "    CONCAT(a2.first_name, ' ', a2.last_name) AS actor2_name\n",
        "FROM\n",
        "    actor_pairs ap\n",
        "JOIN\n",
        "    actor a1 ON ap.actor1_id = a1.actor_id\n",
        "JOIN\n",
        "    actor a2 ON ap.actor2_id = a2.actor_id\n",
        "JOIN\n",
        "    film f ON ap.film_id = f.film_id\n",
        "ORDER BY\n",
        "    film_title, actor1_name, actor2_name;\n"
      ],
      "metadata": {
        "id": "CcwCICmc6xzo"
      }
    },
    {
      "cell_type": "markdown",
      "source": [
        "12. CTE for Recursive Search:\n",
        "\n",
        " a. Implement a recursive CTE to find all employees in the staff table who report to a specific manager,\n",
        "\n",
        " considering the\n"
      ],
      "metadata": {
        "id": "QETWZh286yGW"
      }
    },
    {
      "cell_type": "markdown",
      "source": [
        "-- Replace :manager_id with the actual manager's staff_id you want to search under\n",
        "WITH RECURSIVE reporting_hierarchy AS (\n",
        "    -- Anchor member: select the manager\n",
        "    SELECT\n",
        "        staff_id,\n",
        "        first_name,\n",
        "        last_name,\n",
        "        manager_staff_id\n",
        "    FROM\n",
        "        staff\n",
        "    WHERE\n",
        "        staff_id = :manager_id\n",
        "\n",
        "    UNION ALL\n",
        "\n",
        "    -- Recursive member: select employees reporting to those in previous step\n",
        "    SELECT\n",
        "        s.staff_id,\n",
        "        s.first_name,\n",
        "        s.last_name,\n",
        "        s.manager_staff_id\n",
        "    FROM\n",
        "        staff s\n",
        "    INNER JOIN\n",
        "        reporting_hierarchy rh ON s.manager_staff_id = rh.staff_id\n",
        ")\n",
        "\n",
        "-- Final output excluding the root manager (optional)\n",
        "SELECT\n",
        "    staff_id,\n",
        "    CONCAT(first_name, ' ', last_name) AS staff_name,\n",
        "    manager_staff_id\n",
        "FROM\n",
        "    reporting_hierarchy\n",
        "WHERE\n",
        "    staff_id != :manager_id;\n"
      ],
      "metadata": {
        "id": "50x0tGWq51Mk"
      }
    }
  ]
}